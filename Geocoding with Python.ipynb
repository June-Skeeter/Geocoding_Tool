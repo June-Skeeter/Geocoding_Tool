{
 "cells": [
  {
   "cell_type": "markdown",
   "metadata": {},
   "source": [
    "## Step 1)\n",
    "\n",
    "Import the necessary packages, enter your api key, and read the input file. \n"
   ]
  },
  {
   "cell_type": "code",
   "execution_count": null,
   "metadata": {
    "scrolled": false
   },
   "outputs": [],
   "source": [
    "import folium\n",
    "import numpy as np\n",
    "import pandas as pd\n",
    "from geopy.geocoders import MapBox\n",
    "from ipywidgets import FloatProgress\n",
    "from IPython.display import display\n",
    "\n",
    "# You need this to query mapbox\n",
    "api_key=\"\"\n",
    "\n",
    "# Sepcifiy the location of your data\n",
    "input_filename='TestData1.csv'\n",
    "output_filename = 'Output.csv'\n",
    "\n",
    "\n",
    "if api_key == \"\":\n",
    "    print('Please enter your API key to continue!')\n",
    "else:\n",
    "    Data = pd.read_csv('Input/'+input_filename)\n",
    "Data.head()"
   ]
  },
  {
   "cell_type": "markdown",
   "metadata": {},
   "source": [
    "## Step 2)\n",
    "\n",
    "Specify the geocode request format"
   ]
  },
  {
   "cell_type": "code",
   "execution_count": null,
   "metadata": {},
   "outputs": [],
   "source": [
    "location_columns = ['Address','City/Location','State/Province','Postal Code','Country']\n",
    "## Use this to add exra info that isn't specified (eg. missing country/province)\n",
    "additional_info = ''#, Canada'\n",
    "\n",
    "attempt = ', '.join(x for x in location_columns)+ additional_info\n",
    "\n",
    "print('attempt format')\n",
    "print(attempt)"
   ]
  },
  {
   "cell_type": "markdown",
   "metadata": {},
   "source": [
    "## Step 3)\n",
    "\n",
    "Geocode the points"
   ]
  },
  {
   "cell_type": "code",
   "execution_count": null,
   "metadata": {
    "scrolled": false
   },
   "outputs": [],
   "source": [
    "Data['latitude'] = np.nan\n",
    "Data['longitude'] = np.nan\n",
    "Data['geocoding_Notes'] = ''\n",
    "\n",
    "prog = FloatProgress(min=0, max=100,description='Progress:')\n",
    "prog.value=0\n",
    "display(prog)\n",
    "\n",
    "\n",
    "geolocator = MapBox(api_key=api_key)\n",
    "for index, row in Data.iterrows():\n",
    "    row[location_columns]=row[location_columns].fillna('')\n",
    "    attempt = ' '.join(row[x] for x in location_columns) +' ' + additional_info\n",
    "    prog.value=(index+1)/len(Data)*100\n",
    "    try:\n",
    "        g = geolocator.geocode(attempt,timeout=3)\n",
    "        Data.loc[Data.index==index,['latitude','longitude']]=g.latitude,g.longitude\n",
    "    except:\n",
    "        Data.loc[Data.index==index,'geocoding_Notes']='Geocoding Failed'\n",
    "        pass\n",
    "Data.to_csv('Output/'+output_filename)\n",
    "Failures = Data.loc[Data['geocoding_Notes']=='Geocoding Failed']\n",
    "\n",
    "print('Geocoding Done')\n",
    "print()\n",
    "if Failures.count()[location_columns[0]]>0:\n",
    "    print('Filed to Geocode: ',Failures.shape[0], ' records.')\n",
    "    print(Failures)\n",
    "else:\n",
    "    print('All Records Geocoded')"
   ]
  },
  {
   "cell_type": "markdown",
   "metadata": {},
   "source": [
    "## Step 4)\n",
    "\n",
    "Inspect the results.  Create a web map to display the points."
   ]
  },
  {
   "cell_type": "code",
   "execution_count": null,
   "metadata": {},
   "outputs": [],
   "source": [
    "# your mapbox api key also gives you access to the mapbox satelite basemap\n",
    "token = api_key\n",
    "tileurl = 'https://api.mapbox.com/v4/mapbox.satellite/{z}/{x}/{y}@2x.png?access_token=' + str(token)\n",
    "\n",
    "Map = folium.Map(location=[53, -125],zoom_start=3, tiles=tileurl, attr='Mapbox')\n",
    "\n",
    "for index, row in Data.loc[Data['geocoding_Notes']!='Geocoding Failed'].iterrows():\n",
    "    row[location_columns]=row[location_columns].fillna('')\n",
    "    attempt = ' '.join(row[x] for x in location_columns) +' ' + additional_info\n",
    "    folium.CircleMarker(location=[row['latitude'],row['longitude']],\n",
    "                        popup=attempt,\n",
    "                        fill_color='blue',\n",
    "                        color='black'\n",
    "                       ).add_to(Map)\n",
    "Map"
   ]
  },
  {
   "cell_type": "code",
   "execution_count": null,
   "metadata": {},
   "outputs": [],
   "source": []
  }
 ],
 "metadata": {
  "kernelspec": {
   "display_name": "geo-env",
   "language": "python",
   "name": "geo-env"
  },
  "language_info": {
   "codemirror_mode": {
    "name": "ipython",
    "version": 3
   },
   "file_extension": ".py",
   "mimetype": "text/x-python",
   "name": "python",
   "nbconvert_exporter": "python",
   "pygments_lexer": "ipython3",
   "version": "3.8.10"
  }
 },
 "nbformat": 4,
 "nbformat_minor": 4
}
